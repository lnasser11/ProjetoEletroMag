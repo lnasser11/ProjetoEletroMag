{
 "cells": [
  {
   "cell_type": "code",
   "execution_count": null,
   "metadata": {},
   "outputs": [],
   "source": []
  },
  {
   "cell_type": "markdown",
   "metadata": {},
   "source": [
    "7) Determinação da tensão na carga e da potência transmitida (simulação): essa atividade consiste na especificação da tensão e da potência consumida na carga, atendendo às necessidades de sua aplicação. Use seu código para compreender quais parâmetros devem ser alterados para conseguir a tensão e a potência que precisa na carga (saber o valor equivalente da carga, em Ω, ajudará a compreender o que precisa ser alterado). Outro parâmetro crucial para seu projeto é o coeficiente de acoplamento (𝑘). Quanto mais distantes estão as bobinas, menor será 𝑘. Plotar um gráfico como o da figura seguinte vai ajudar a compreender como será possível confrontar a especificação de distância entre bobinas em seu projeto e a tensão/potência na carga. É importante também calcular a eficiência da transmissão. "
   ]
  },
  {
   "cell_type": "markdown",
   "metadata": {},
   "source": []
  },
  {
   "cell_type": "code",
   "execution_count": 27,
   "metadata": {},
   "outputs": [],
   "source": [
    "# Imports\n",
    "from cmath import *\n",
    "from math import *\n",
    "from numpy import linalg\n",
    "import numpy as np\n",
    "import matplotlib.pyplot as plt"
   ]
  },
  {
   "cell_type": "code",
   "execution_count": 56,
   "metadata": {},
   "outputs": [],
   "source": [
    "# Resistências\n",
    "R1 = 10\n",
    "R2 = 10\n",
    "\n",
    "# Indutâncias\n",
    "L1 = 1*10**-3\n",
    "L2 = 1*10**-3\n",
    "\n",
    "# Capacitâncias\n",
    "C1 = 1*10**-6\n",
    "C2 = 1*10**-6\n",
    "\n",
    "# Frequência\n",
    "freq = 1/(sqrt(L1*C1))\n",
    "\n",
    "# Frequência Angular\n",
    "w = 2 * pi * freq\n",
    "\n",
    "# Tensão de Pico\n",
    "t_pico = 1 / w\n",
    "\n",
    "# Indutância Mútua\n",
    "k_list = np.arange(0,1.1,0.01)\n",
    "#M = k * sqrt(L1 * L2)\n",
    "\n",
    "# Impedâncias\n",
    "XL1 = 1j * w * L1\n",
    "XL2 = 1j * w * L2\n",
    "\n",
    "XC1 = 1/(1j * w * C1)\n",
    "XC2 = 1/(1j * w * C2)\n",
    "\n",
    "#XM = 1j * w * M"
   ]
  },
  {
   "cell_type": "code",
   "execution_count": 57,
   "metadata": {},
   "outputs": [],
   "source": [
    "def CalculaLeonardo(Uf, Rc, XM):\n",
    "    Z=np.array([\n",
    "        [R1+XL1+XC1             ,    -XM],\n",
    "        [-XM, R2+XL2+(Rc/(Rc*1j*w*C2+1))]\n",
    "                ])\n",
    "    V=np.array([Uf,\n",
    "                0])\n",
    "    i=np.dot(linalg.inv(Z),V)\n",
    "    return i[0], i[1]"
   ]
  },
  {
   "cell_type": "code",
   "execution_count": 85,
   "metadata": {},
   "outputs": [],
   "source": [
    "C = 4.7*10**-6\n",
    "f = 13700\n",
    "Rc_list = np.arange(100,300,25)\n",
    "\n",
    "Uf = (2/pi)*19\n",
    "k = 0.1\n",
    "\n",
    "\n",
    "V2_list = []\n",
    "L_list = []\n",
    "f_list = []\n",
    "indices = []\n",
    "v2_corr = []\n",
    "\n",
    "Rdc = 0.5\n",
    "\n"
   ]
  },
  {
   "cell_type": "code",
   "execution_count": 99,
   "metadata": {},
   "outputs": [
    {
     "data": {
      "image/png": "[encoded data removed]",
      "text/plain": [
       "<Figure size 432x288 with 1 Axes>"
      ]
     },
     "metadata": {
      "needs_background": "light"
     },
     "output_type": "display_data"
    }
   ],
   "source": [
    "n=0\n",
    "V_max  = []\n",
    "k_max = []\n",
    "\n",
    "for Rc in Rc_list:\n",
    "    Vcarga_list = []\n",
    "    c = 0\n",
    "    n = n + 1\n",
    "    for k in k_list:\n",
    "        \n",
    "        C1 = C2 = C\n",
    "\n",
    "        R = R1 = R2 = Rdc + (2*Rdc/(100*10**3)) * f\n",
    "        \n",
    "        w = 2 * pi * f\n",
    "        L = L1 = L2 = 1/((f**2)*4*(pi**2)*C)\n",
    "\n",
    "        XC = XC1 = XC2 = 1/(1j * w * C)\n",
    "        XL = XL1 = XL2 = 1j * w * L\n",
    "        \n",
    "\n",
    "        M = k * sqrt(L**2)\n",
    "        XM = 1j * w * M\n",
    "\n",
    "\n",
    "        i1, i2 = CalculaLeonardo(Uf, Rc, XM)\n",
    "\n",
    "\n",
    "        V2 = ((Rc*XC)/(Rc+XC))*i2\n",
    "        \n",
    "        Vcarga_list.append(abs(V2))\n",
    "    # V_max.append(abs(V2))\n",
    "    # k_max.append(k_list[c])\n",
    "    # c +=1\n",
    "    \n",
    "    plt.scatter(k_max,V_max)    \n",
    "    plt.plot(k_list, Vcarga_list, label=\"Rc\" + str(n))\n",
    "    plt.xlabel(\"k\")\n",
    "    plt.ylabel(\"Tensão (V2)\")\n",
    "    plt.legend(bbox_to_anchor=(1,1))\n",
    "    plt.grid()\n",
    "\n",
    "plt.show()"
   ]
  },
  {
   "cell_type": "code",
   "execution_count": null,
   "metadata": {},
   "outputs": [
    {
     "data": {
      "text/plain": [
       "array([], dtype=int32)"
      ]
     },
     "execution_count": 79,
     "metadata": {},
     "output_type": "execute_result"
    }
   ],
   "source": [
    "Rc_list"
   ]
  },
  {
   "cell_type": "code",
   "execution_count": 100,
   "metadata": {},
   "outputs": [
    {
     "ename": "IndexError",
     "evalue": "list index out of range",
     "output_type": "error",
     "traceback": [
      "\u001b[1;31m---------------------------------------------------------------------------\u001b[0m",
      "\u001b[1;31mIndexError\u001b[0m                                Traceback (most recent call last)",
      "Input \u001b[1;32mIn [100]\u001b[0m, in \u001b[0;36m<cell line: 5>\u001b[1;34m()\u001b[0m\n\u001b[0;32m     31\u001b[0m        Vcarga_list\u001b[38;5;241m.\u001b[39mappend(\u001b[38;5;28mabs\u001b[39m(V2))\n\u001b[0;32m     33\u001b[0m \u001b[38;5;66;03m# Armazenando o máximo para esta RC\u001b[39;00m\n\u001b[1;32m---> 34\u001b[0m        \u001b[38;5;28;01mif\u001b[39;00m n \u001b[38;5;241m==\u001b[39m \u001b[38;5;241m0\u001b[39m \u001b[38;5;129;01mor\u001b[39;00m \u001b[38;5;28mabs\u001b[39m(V2) \u001b[38;5;241m>\u001b[39m \u001b[43mV_max\u001b[49m\u001b[43m[\u001b[49m\u001b[38;5;241;43m-\u001b[39;49m\u001b[38;5;241;43m1\u001b[39;49m\u001b[43m]\u001b[49m:\n\u001b[0;32m     35\u001b[0m            V_max\u001b[38;5;241m.\u001b[39mappend(\u001b[38;5;28mabs\u001b[39m(V2))\n\u001b[0;32m     36\u001b[0m            k_max\u001b[38;5;241m.\u001b[39mappend(k)\n",
      "\u001b[1;31mIndexError\u001b[0m: list index out of range"
     ]
    }
   ],
   "source": [
    "n=0\n",
    "V_max  = []\n",
    "k_max = []\n",
    "\n",
    "for Rc in Rc_list:\n",
    "    Vcarga_list = []\n",
    "    c = 0\n",
    "    n = n + 1\n",
    "    for k in k_list:\n",
    "        \n",
    "        C1 = C2 = C\n",
    "\n",
    "        R = R1 = R2 = Rdc + (2*Rdc/(100*10**3)) * f\n",
    "        \n",
    "        w = 2 * pi * f\n",
    "        L = L1 = L2 = 1/((f**2)*4*(pi**2)*C)\n",
    "\n",
    "        XC = XC1 = XC2 = 1/(1j * w * C)\n",
    "        XL = XL1 = XL2 = 1j * w * L\n",
    "        \n",
    "\n",
    "        M = k * sqrt(L**2)\n",
    "        XM = 1j * w * M\n",
    "\n",
    "\n",
    "        i1, i2 = CalculaLeonardo(Uf, Rc, XM)\n",
    "\n",
    "\n",
    "        V2 = ((Rc*XC)/(Rc+XC))*i2\n",
    "        \n",
    "        Vcarga_list.append(abs(V2))\n",
    "\n",
    " # Armazenando o máximo para esta RC\n",
    "        if n == 0 or abs(V2) > V_max[-1]:\n",
    "            V_max.append(abs(V2))\n",
    "            k_max.append(k)\n",
    "        n += 1\n",
    "    \n",
    "    plt.plot(k_list, Vcarga_list, label=\"Rc\" + str(n))\n",
    "    \n",
    "plt.scatter(k_max, V_max, color='red', label=\"V_max\")\n",
    "plt.xlabel(\"k\")\n",
    "plt.ylabel(\"Tensão (V2)\")\n",
    "plt.legend(bbox_to_anchor=(1,1))\n",
    "plt.grid()\n",
    "plt.show()"
   ]
  },
  {
   "cell_type": "code",
   "execution_count": 110,
   "metadata": {},
   "outputs": [
    {
     "data": {
      "image/png": "[encoded data removed]",
      "text/plain": [
       "<Figure size 432x288 with 1 Axes>"
      ]
     },
     "metadata": {
      "needs_background": "light"
     },
     "output_type": "display_data"
    }
   ],
   "source": [
    "ks_max = []\n",
    "vs_max= []\n",
    "for Rc in Rc_list:\n",
    "    Vcarga_list = []\n",
    "    V_max = 0  # Valor máximo para esta RC\n",
    "    k_max = 0   # Valor de k correspondente ao máximo\n",
    "    for k in k_list:\n",
    "        C1 = C2 = C\n",
    "        R = R1 = R2 = Rdc + (2*Rdc/(100*10**3)) * f\n",
    "        w = 2 * pi * f\n",
    "        L = L1 = L2 = 1/((f**2)*4*(pi**2)*C)\n",
    "        XC = XC1 = XC2 = 1/(1j * w * C)\n",
    "        XL = XL1 = XL2 = 1j * w * L\n",
    "        M = k * sqrt(L**2)\n",
    "        XM = 1j * w * M\n",
    "        i1, i2 = CalculaLeonardo(Uf, Rc, XM)\n",
    "        V2 = ((Rc*XC)/(Rc+XC))*i2\n",
    "        Vcarga_list.append(abs(V2))\n",
    "        \n",
    "        # Atualizando o valor máximo e o valor de k correspondente\n",
    "        if abs(V2) > V_max:\n",
    "            V_max = abs(V2)\n",
    "            k_max = k\n",
    "            vs_max.append(abs(V2))\n",
    "            ks_max.append(k)\n",
    "    \n",
    "    # Plotando o gráfico para esta RC\n",
    "    plt.plot(k_list, Vcarga_list, label=\"Rc = \" + str(Rc))\n",
    "    \n",
    "    # Plotando o ponto correspondente ao máximo\n",
    "    plt.scatter(k_max, V_max, color='red')\n",
    "    \n",
    "plt.xlabel(\"k\")\n",
    "plt.ylabel(\"Tensão (V2)\")\n",
    "plt.legend()\n",
    "plt.grid()\n",
    "plt.show()"
   ]
  },
  {
   "cell_type": "code",
   "execution_count": 111,
   "metadata": {},
   "outputs": [
    {
     "data": {
      "text/plain": [
       "<matplotlib.collections.PathCollection at 0x1f1471c8880>"
      ]
     },
     "execution_count": 111,
     "metadata": {},
     "output_type": "execute_result"
    },
    {
     "data": {
      "image/png": "[encoded data removed]",
      "text/plain": [
       "<Figure size 432x288 with 1 Axes>"
      ]
     },
     "metadata": {
      "needs_background": "light"
     },
     "output_type": "display_data"
    }
   ],
   "source": [
    "plt.scatter(ks_max, vs_max, color='red')\n"
   ]
  },
  {
   "cell_type": "code",
   "execution_count": 108,
   "metadata": {},
   "outputs": [
    {
     "data": {
      "text/plain": [
       "0.26"
      ]
     },
     "execution_count": 108,
     "metadata": {},
     "output_type": "execute_result"
    }
   ],
   "source": [
    "k_max"
   ]
  },
  {
   "cell_type": "code",
   "execution_count": null,
   "metadata": {},
   "outputs": [],
   "source": []
  }
 ],
 "metadata": {
  "kernelspec": {
   "display_name": "base",
   "language": "python",
   "name": "python3"
  },
  "language_info": {
   "codemirror_mode": {
    "name": "ipython",
    "version": 3
   },
   "file_extension": ".py",
   "mimetype": "text/x-python",
   "name": "python",
   "nbconvert_exporter": "python",
   "pygments_lexer": "ipython3",
   "version": "3.9.12"
  }
 },
 "nbformat": 4,
 "nbformat_minor": 2
}
